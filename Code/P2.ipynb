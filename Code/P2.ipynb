{
 "cells": [
  {
   "cell_type": "code",
   "execution_count": 1,
   "id": "9b58d8a3-90d7-498d-810d-208da568037f",
   "metadata": {},
   "outputs": [],
   "source": [
    "%matplotlib inline\n",
    "#Import  necessary tools\n",
    "import pandas as pd\n",
    "import numpy as np\n",
    "import matplotlib.pyplot as plt\n",
    "from sklearn.model_selection import train_test_split\n",
    "import random\n",
    "from scipy import stats\n",
    "from sklearn.tree import DecisionTreeClassifier\n",
    "from sklearn.ensemble import RandomForestClassifier\n",
    "\n",
    "\n",
    "# Reformat graphics\n",
    "plt.style.use('ggplot')\n",
    "plt.rcParams['figure.figsize'] = (30, 14)"
   ]
  },
  {
   "cell_type": "code",
   "execution_count": 2,
   "id": "b4c308c9-ad98-4f5d-92f1-a22c383de4ce",
   "metadata": {},
   "outputs": [
    {
     "name": "stderr",
     "output_type": "stream",
     "text": [
      "/Users/johntate/opt/anaconda3/lib/python3.8/site-packages/IPython/core/interactiveshell.py:3165: DtypeWarning: Columns (4,31,33,54,61,62,63,76,79,90,92,94,96,114,115,121) have mixed types.Specify dtype option on import or set low_memory=False.\n",
      "  has_raised = await self.run_ast_nodes(code_ast.body, cell_name,\n"
     ]
    }
   ],
   "source": [
    "#Read in the data set\n",
    "gtd = pd.read_csv('/Users/johntate/Desktop/DTSC 3601/Project 2/terrorism_predictive_analytics/Data Sets/Raw Data Sets/gtdDataSet.csv')"
   ]
  },
  {
   "cell_type": "code",
   "execution_count": 3,
   "id": "4ad5060b-b2e9-4b49-b36f-ccb2d76a3b55",
   "metadata": {},
   "outputs": [],
   "source": [
    "#Select for relevant columns\n",
    "gtd = gtd[['iyear', 'imonth', 'summary', 'country', 'gname', 'success', 'targtype1', 'nperps', 'nkill', 'nwound','weaptype1', 'weapsubtype1']]"
   ]
  },
  {
   "cell_type": "code",
   "execution_count": 4,
   "id": "2b0a0baf-b2f3-4f76-bc35-87ccd7ee5b22",
   "metadata": {},
   "outputs": [
    {
     "data": {
      "text/plain": [
       "(201183, 12)"
      ]
     },
     "execution_count": 4,
     "metadata": {},
     "output_type": "execute_result"
    }
   ],
   "source": [
    "gtd.shape"
   ]
  },
  {
   "cell_type": "code",
   "execution_count": 6,
   "id": "af08f4b8-0e66-47ac-8fb9-dce6e2289034",
   "metadata": {},
   "outputs": [],
   "source": [
    "#Create a list of relevant countries to filter for Canada, Germany, France, UK, Italy, Japan, USA\n",
    "countries_list = [38, 75, 69, 603, 98, 101, 217]\n",
    "boolean_series = gtd.country.isin(countries_list)"
   ]
  },
  {
   "cell_type": "code",
   "execution_count": 8,
   "id": "086c7148-2e43-4f3f-abcf-c71f6590cac5",
   "metadata": {},
   "outputs": [],
   "source": [
    "#Select for attacks that occurred in relevant countries\n",
    "gtd = gtd[boolean_series]"
   ]
  },
  {
   "cell_type": "code",
   "execution_count": 11,
   "id": "1161872d-be18-4726-9fac-02129432d923",
   "metadata": {},
   "outputs": [
    {
     "data": {
      "text/plain": [
       "603    5424\n",
       "217    3004\n",
       "69     2726\n",
       "98     1589\n",
       "75      775\n",
       "101     405\n",
       "38      112\n",
       "Name: country, dtype: int64"
      ]
     },
     "execution_count": 11,
     "metadata": {},
     "output_type": "execute_result"
    }
   ],
   "source": [
    "#Check to make sure that only listed countries appear\n",
    "gtd.country.value_counts()"
   ]
  },
  {
   "cell_type": "code",
   "execution_count": 18,
   "id": "6115f3f7-1a8a-4337-ac8c-1532d788dd03",
   "metadata": {},
   "outputs": [],
   "source": [
    "#Filter to relevant years\n",
    "gtd = gtd[(gtd['iyear'] >= 2006) & (gtd['iyear'] < 2020)]"
   ]
  },
  {
   "cell_type": "code",
   "execution_count": 19,
   "id": "f30cc75b-4cc7-441a-8831-3ea6cca875b5",
   "metadata": {},
   "outputs": [
    {
     "data": {
      "text/plain": [
       "(2193, 12)"
      ]
     },
     "execution_count": 19,
     "metadata": {},
     "output_type": "execute_result"
    }
   ],
   "source": [
    "#Check shape\n",
    "gtd.shape"
   ]
  },
  {
   "cell_type": "code",
   "execution_count": 21,
   "id": "aec8749c-2d42-442e-a073-a0cc7c6c4eb3",
   "metadata": {},
   "outputs": [
    {
     "name": "stderr",
     "output_type": "stream",
     "text": [
      "<ipython-input-21-d28cbc66d691>:2: SettingWithCopyWarning: \n",
      "A value is trying to be set on a copy of a slice from a DataFrame\n",
      "\n",
      "See the caveats in the documentation: https://pandas.pydata.org/pandas-docs/stable/user_guide/indexing.html#returning-a-view-versus-a-copy\n",
      "  gtd.drop_duplicates(inplace=True)\n",
      "<ipython-input-21-d28cbc66d691>:3: SettingWithCopyWarning: \n",
      "A value is trying to be set on a copy of a slice from a DataFrame\n",
      "\n",
      "See the caveats in the documentation: https://pandas.pydata.org/pandas-docs/stable/user_guide/indexing.html#returning-a-view-versus-a-copy\n",
      "  gtd.dropna(inplace=True)\n"
     ]
    }
   ],
   "source": [
    "#Drop any duplicate rows, since we subsetted columns there should be no duplicates\n",
    "gtd.drop_duplicates(inplace=True)\n",
    "gtd.dropna(inplace=True)"
   ]
  },
  {
   "cell_type": "code",
   "execution_count": 23,
   "id": "b587a82e-486e-4875-86b4-b60212807617",
   "metadata": {},
   "outputs": [
    {
     "data": {
      "text/plain": [
       "8    777\n",
       "6    708\n",
       "5    317\n",
       "9    150\n",
       "2      4\n",
       "Name: weaptype1, dtype: int64"
      ]
     },
     "execution_count": 23,
     "metadata": {},
     "output_type": "execute_result"
    }
   ],
   "source": [
    "gtd.weaptype1.value_counts()"
   ]
  },
  {
   "cell_type": "code",
   "execution_count": 24,
   "id": "22d10231-bcfb-4a85-8a67-62023ba26b5e",
   "metadata": {},
   "outputs": [
    {
     "data": {
      "text/plain": [
       "(1956, 12)"
      ]
     },
     "execution_count": 24,
     "metadata": {},
     "output_type": "execute_result"
    }
   ],
   "source": []
  },
  {
   "cell_type": "code",
   "execution_count": null,
   "id": "bf57004f-f111-4084-a1b1-9642d0d669c9",
   "metadata": {},
   "outputs": [],
   "source": []
  }
 ],
 "metadata": {
  "kernelspec": {
   "display_name": "Python 3",
   "language": "python",
   "name": "python3"
  },
  "language_info": {
   "codemirror_mode": {
    "name": "ipython",
    "version": 3
   },
   "file_extension": ".py",
   "mimetype": "text/x-python",
   "name": "python",
   "nbconvert_exporter": "python",
   "pygments_lexer": "ipython3",
   "version": "3.8.8"
  }
 },
 "nbformat": 4,
 "nbformat_minor": 5
}
