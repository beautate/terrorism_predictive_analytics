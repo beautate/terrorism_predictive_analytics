{
 "cells": [
  {
   "cell_type": "code",
   "execution_count": null,
   "id": "9b58d8a3-90d7-498d-810d-208da568037f",
   "metadata": {},
   "outputs": [],
   "source": [
    "%matplotlib inline\n",
    "\n",
    "import pandas as pd\n",
    "import numpy as np\n",
    "\n",
    "# Make the graphs a bit prettier, and bigger\n",
    "plt.style.use('ggplot')\n",
    "plt.rcParams['figure.figsize'] = (30, 14)"
   ]
  },
  {
   "cell_type": "code",
   "execution_count": null,
   "id": "b4c308c9-ad98-4f5d-92f1-a22c383de4ce",
   "metadata": {},
   "outputs": [],
   "source": [
    "#Read in the data set\n",
    "gtd = pd.read_csv('/Users/johntate/Desktop/DTSC 3601/Project 2/Data Sets/gtdDataSet.csv')"
   ]
  },
  {
   "cell_type": "code",
   "execution_count": null,
   "id": "4ad5060b-b2e9-4b49-b36f-ccb2d76a3b55",
   "metadata": {},
   "outputs": [],
   "source": [
    "gtd_vra = gtd[['iyear', 'imonth', 'summary', 'targtype1_txt', 'gname', ]]"
   ]
  }
 ],
 "metadata": {
  "kernelspec": {
   "display_name": "Python 3",
   "language": "python",
   "name": "python3"
  },
  "language_info": {
   "codemirror_mode": {
    "name": "ipython",
    "version": 3
   },
   "file_extension": ".py",
   "mimetype": "text/x-python",
   "name": "python",
   "nbconvert_exporter": "python",
   "pygments_lexer": "ipython3",
   "version": "3.8.8"
  }
 },
 "nbformat": 4,
 "nbformat_minor": 5
}
